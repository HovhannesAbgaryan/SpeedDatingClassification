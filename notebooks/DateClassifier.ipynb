{
 "cells": [
  {
   "cell_type": "markdown",
   "source": [
    "# Ensemble Methods\n",
    "This classifier makes predictions based on [Speed Dating dataset](https://www.openml.org/search?type=data&status=active&id=40536) from [OpenML website](https://www.openml.org)."
   ],
   "metadata": {
    "collapsed": false
   },
   "id": "daaf5ca577bcba83"
  },
  {
   "cell_type": "code",
   "execution_count": null,
   "id": "initial_id",
   "metadata": {
    "collapsed": true
   },
   "outputs": [],
   "source": [
    "import pandas as pd\n",
    "import time\n",
    "import matplotlib.pyplot as plt\n",
    "plt.style.use(\"seaborn-v0_8-whitegrid\") # Plot style\n",
    "\n",
    "from sklearn.metrics import accuracy_score\n",
    "from sklearn.model_selection import train_test_split\n",
    "from sklearn.ensemble import BaggingClassifier, RandomForestClassifier\n",
    "\n",
    "%load_ext autoreload\n",
    "%autoreload 2"
   ]
  },
  {
   "cell_type": "code",
   "execution_count": null,
   "outputs": [],
   "source": [
    "# Import the Speed Dating dataset from OpenML website\n",
    "from sklearn.datasets import fetch_openml\n",
    "sd_data = fetch_openml(name=\"SpeedDating\")"
   ],
   "metadata": {
    "collapsed": false
   },
   "id": "4404a72b8c88f906"
  },
  {
   "cell_type": "code",
   "execution_count": null,
   "outputs": [],
   "source": [
    "sd_data.keys()"
   ],
   "metadata": {
    "collapsed": false
   },
   "id": "405aec3b8dd8c5f0"
  },
  {
   "cell_type": "code",
   "execution_count": null,
   "outputs": [],
   "source": [
    "# Get the data description\n",
    "print(sd_data.DESCR)"
   ],
   "metadata": {
    "collapsed": false
   },
   "id": "93817000d32f6acb"
  },
  {
   "cell_type": "code",
   "execution_count": null,
   "outputs": [],
   "source": [
    "# Get the data and classes (labels, targets)\n",
    "X = sd_data.data\n",
    "y = sd_data.target\n",
    "\n",
    "# Create a data frame\n",
    "X = pd.DataFrame(X, columns=sd_data.feature_names)\n",
    "y = pd.Series(y)\n",
    "\n",
    "X.head()"
   ],
   "metadata": {
    "collapsed": false
   },
   "id": "bc8f0f26f7ba06b7"
  },
  {
   "cell_type": "code",
   "execution_count": null,
   "outputs": [],
   "source": [
    "# Get the (number of data, number of features) tuple\n",
    "X.shape"
   ],
   "metadata": {
    "collapsed": false
   },
   "id": "da068df865b530df"
  },
  {
   "cell_type": "code",
   "execution_count": null,
   "outputs": [],
   "source": [
    "# Check if there are missing values\n",
    "X.isna().sum()"
   ],
   "metadata": {
    "collapsed": false
   },
   "id": "6ac113fdc0ebc7e7"
  },
  {
   "cell_type": "code",
   "execution_count": null,
   "outputs": [],
   "source": [
    "# Delete all columns (axis=1) with missing values. This operation reduces the number of features.\n",
    "# In order to delete all rows with missing values, set axis=0. This operation will reduce the number of data.\n",
    "X.dropna(axis=1, inplace=True)"
   ],
   "metadata": {
    "collapsed": false
   },
   "id": "3dbd725f50f65241"
  },
  {
   "cell_type": "code",
   "execution_count": null,
   "outputs": [],
   "source": [
    "# Get the (number of data, number of features) tuple after deleting all rows (or columns) with missing values\n",
    "X.shape"
   ],
   "metadata": {
    "collapsed": false
   },
   "id": "318c746693929310"
  },
  {
   "cell_type": "code",
   "execution_count": null,
   "outputs": [],
   "source": [
    "# Get the class distribution\n",
    "y.value_counts() / len(y)"
   ],
   "metadata": {
    "collapsed": false
   },
   "id": "aa6b3ed2ffcd6f8b"
  },
  {
   "cell_type": "markdown",
   "source": [
    "The class distribution is:\n",
    "1. approximately 83% data has negative label,\n",
    "2. approximately 16% data has positive label.\n",
    "\n",
    "Therefore, there is insufficient data for positive cases. This situation is called class imbalance. In such cases it is necessary to find the features that most influence the positive prediction."
   ],
   "metadata": {
    "collapsed": false
   },
   "id": "3c27ed1056f305fc"
  },
  {
   "cell_type": "code",
   "execution_count": null,
   "outputs": [],
   "source": [
    "# Split the data into training (80%) and testing (20%) datasets\n",
    "X_train, X_test, y_train, y_test = train_test_split(X, y, train_size=0.8, random_state=0)\n",
    "\n",
    "print(y_train.value_counts())\n",
    "print(y_test.value_counts())"
   ],
   "metadata": {
    "collapsed": false
   },
   "id": "87040408f824b5b0"
  },
  {
   "cell_type": "markdown",
   "source": [
    "## 1. Bagging\n",
    "Train and test the sklearn's BaggingClassifier. The steps of finding the optimal values of hyperparameters are skipped. The ideal scenario:\n",
    "1. find the optimal number of estimators on training dataset (e.g. using Cross-Validation),\n",
    "2. train an ensemble model with optimal number of estimators (i.e. individual models) on training dataset,\n",
    "3. test the trained ensemble model on testing dataset."
   ],
   "metadata": {
    "collapsed": false
   },
   "id": "f0835cba47f90aac"
  },
  {
   "cell_type": "code",
   "execution_count": null,
   "outputs": [],
   "source": [
    "start = time.perf_counter()\n",
    "classifier = BaggingClassifier(random_state=0)\n",
    "classifier.fit(X_train, y_train)\n",
    "print(f\"Time taken: {time.perf_counter() - start} sec\")\n",
    "print(\"Train accuracy: \", accuracy_score(classifier.predict(X_train), y_train))\n",
    "print(\"Test accuracy: \", accuracy_score(classifier.predict(X_test), y_test))"
   ],
   "metadata": {
    "collapsed": false
   },
   "id": "decb8510d1bd82ad"
  },
  {
   "cell_type": "markdown",
   "source": [
    "Here,\n",
    "1. train accuracy should be around 98% => ensemble model overfits on training dataset,\n",
    "2. test accuracy should be around 84%."
   ],
   "metadata": {
    "collapsed": false
   },
   "id": "4b091dc1f4b35ace"
  },
  {
   "cell_type": "code",
   "execution_count": null,
   "outputs": [],
   "source": [
    "# Get the class distribution in testing dataset\n",
    "y_test.value_counts() / len(y_test)"
   ],
   "metadata": {
    "collapsed": false
   },
   "id": "1ab1d505c129a5bb"
  },
  {
   "cell_type": "markdown",
   "source": [
    "The class distribution in testing dataset is:\n",
    "1. approximately 83% data has negative label,\n",
    "2. approximately 16% data has positive label.\n",
    "\n",
    "Since most of the data in the testing dataset has a negative label, if the model makes a negative prediction for all the input data, it will get about 84% accuracy on the testing dataset. Therefore, the obtained test accuracy is not a good result, because it can be obtained with a model that always makes negative predictions. The reason behind this is a class imbalance, i.e. when the model mainly trains on data with the same label, it automatically gets biased on data with that label; therefore, the model's future predictions will be the label of training dataset's data's majority."
   ],
   "metadata": {
    "collapsed": false
   },
   "id": "f0929618cc196b5"
  },
  {
   "cell_type": "markdown",
   "source": [
    "## 2. Random Forest\n",
    "Train and test the sklearn's RandomForestClassifier with default parameters. The obtained results are slightly better than BaggingClassifier's, but the class imbalance problem still exists."
   ],
   "metadata": {
    "collapsed": false
   },
   "id": "fbd6bac6999e418e"
  },
  {
   "cell_type": "code",
   "execution_count": null,
   "outputs": [],
   "source": [
    "start = time.perf_counter()\n",
    "classifier = RandomForestClassifier(random_state=0)\n",
    "classifier.fit(X_train, y_train)\n",
    "print(f\"Time taken: {time.perf_counter() - start} sec\")\n",
    "print(\"Train accuracy: \", accuracy_score(classifier.predict(X_train), y_train))\n",
    "print(\"Test accuracy: \", accuracy_score(classifier.predict(X_test), y_test))"
   ],
   "metadata": {
    "collapsed": false
   },
   "id": "1cb03dde0efa4eee"
  },
  {
   "cell_type": "markdown",
   "source": [
    "## Balancing [Strategies](https://imbalanced-learn.readthedocs.io/en/stable/api.html#module-imblearn.over_sampling)"
   ],
   "metadata": {
    "collapsed": false
   },
   "id": "670ecb41e3b53079"
  },
  {
   "cell_type": "markdown",
   "source": [
    "## 1. Over-sampling\n",
    "The idea of over-sampling is to copy the data of the label that is less in the original dataset (in this case, the data of positive class) until the classes are balanced."
   ],
   "metadata": {
    "collapsed": false
   },
   "id": "1a536d3ff391350"
  },
  {
   "cell_type": "code",
   "execution_count": null,
   "outputs": [],
   "source": [
    "from imblearn.over_sampling import RandomOverSampler"
   ],
   "metadata": {
    "collapsed": false
   },
   "id": "191d36b9dd9f4d00"
  },
  {
   "cell_type": "code",
   "execution_count": null,
   "outputs": [],
   "source": [
    "ros = RandomOverSampler(random_state=0)\n",
    "X_resampled, y_resampled = ros.fit_resample(X_train, y_train)"
   ],
   "metadata": {
    "collapsed": false
   },
   "id": "1a2e5118c48ec06c"
  },
  {
   "cell_type": "code",
   "execution_count": null,
   "outputs": [],
   "source": [
    "y_resampled = pd.Series(y_resampled)\n",
    "y_resampled.value_counts()"
   ],
   "metadata": {
    "collapsed": false
   },
   "id": "790c84b53432fa45"
  },
  {
   "cell_type": "markdown",
   "source": [
    "### 1.1 Bagging"
   ],
   "metadata": {
    "collapsed": false
   },
   "id": "101247ed30a049b"
  },
  {
   "cell_type": "code",
   "execution_count": null,
   "outputs": [],
   "source": [
    "start = time.perf_counter()\n",
    "classifier = BaggingClassifier(random_state = 0)\n",
    "classifier.fit(X_resampled, y_resampled)\n",
    "print(f\"Time taken: {time.perf_counter() - start} sec\")\n",
    "print(\"Train accuracy: \", accuracy_score(classifier.predict(X_resampled), y_resampled))\n",
    "print(\"Test accuracy: \", accuracy_score(classifier.predict(X_test), y_test))"
   ],
   "metadata": {
    "collapsed": false
   },
   "id": "f9dc85221773e817"
  },
  {
   "cell_type": "markdown",
   "source": [
    "### 1.2 Random Forest"
   ],
   "metadata": {
    "collapsed": false
   },
   "id": "9c9479e64fa89db"
  },
  {
   "cell_type": "code",
   "execution_count": null,
   "outputs": [],
   "source": [
    "start = time.perf_counter()\n",
    "classifier = RandomForestClassifier(random_state = 0)\n",
    "classifier.fit(X_resampled, y_resampled)\n",
    "print(f\"Time taken: {time.perf_counter() - start} sec\")\n",
    "print(\"Train accuracy: \", accuracy_score(classifier.predict(X_resampled), y_resampled))\n",
    "print('Test accuracy: ', accuracy_score(classifier.predict(X_test), y_test))"
   ],
   "metadata": {
    "collapsed": false
   },
   "id": "96da898ce5398e9f"
  },
  {
   "cell_type": "markdown",
   "source": [
    "## 2. Under-sampling\n",
    "Under-sampling is the opposite of oversampling, i.e. it takes the data of the label that is more in the original dataset (in this case, the data of negative class) with the quantity that is equal to the quantity of the data of the label that is less in the original dataset (in this case, the data of positive class).\n"
   ],
   "metadata": {
    "collapsed": false
   },
   "id": "dca97d7b197a22b6"
  },
  {
   "cell_type": "code",
   "execution_count": null,
   "outputs": [],
   "source": [
    "from imblearn.under_sampling import RandomUnderSampler"
   ],
   "metadata": {
    "collapsed": false
   },
   "id": "db6a3d4cac77b04e"
  },
  {
   "cell_type": "code",
   "execution_count": null,
   "outputs": [],
   "source": [
    "rus = RandomUnderSampler()\n",
    "X_resampled2, y_resampled2 = rus.fit_resample(X_train, y_train)"
   ],
   "metadata": {
    "collapsed": false
   },
   "id": "dd8bec8325b40b85"
  },
  {
   "cell_type": "code",
   "execution_count": null,
   "outputs": [],
   "source": [
    "y_resampled2 = pd.Series(y_resampled2)\n",
    "y_resampled2.value_counts()"
   ],
   "metadata": {
    "collapsed": false
   },
   "id": "2fc598726607ef4"
  },
  {
   "cell_type": "markdown",
   "source": [
    "### 2.1 Bagging"
   ],
   "metadata": {
    "collapsed": false
   },
   "id": "dfe70c5f236f716a"
  },
  {
   "cell_type": "code",
   "execution_count": null,
   "outputs": [],
   "source": [
    "start = time.perf_counter()\n",
    "classifier = BaggingClassifier(random_state = 0)\n",
    "classifier.fit(X_resampled2, y_resampled2)\n",
    "print(f\"Time taken: {time.perf_counter() - start} sec\")\n",
    "print(\"Train accuracy: \", accuracy_score(classifier.predict(X_resampled2), y_resampled2))\n",
    "print(\"Test accuracy: \", accuracy_score(classifier.predict(X_test), y_test))"
   ],
   "metadata": {
    "collapsed": false
   },
   "id": "13d44373a8879648"
  },
  {
   "cell_type": "markdown",
   "source": [
    "### 2.2 Random Forest"
   ],
   "metadata": {
    "collapsed": false
   },
   "id": "d2eb980868775ce2"
  },
  {
   "cell_type": "code",
   "execution_count": null,
   "outputs": [],
   "source": [
    "start = time.perf_counter()\n",
    "classifier = RandomForestClassifier(random_state = 0)\n",
    "classifier.fit(X_resampled2, y_resampled2)\n",
    "print(f\"Time taken: {time.perf_counter() - start} sec\")\n",
    "print(\"Train accuracy: \", accuracy_score(classifier.predict(X_resampled2), y_resampled2))\n",
    "print(\"Test accuracy: \", accuracy_score(classifier.predict(X_test), y_test))"
   ],
   "metadata": {
    "collapsed": false
   },
   "id": "ff09e1a6498ef16f"
  },
  {
   "cell_type": "markdown",
   "source": [
    "## Other strategies for handling missing values ([imputation](https://scikit-learn.org/stable/modules/impute.html))\n",
    "If there are missing values in data, deleting the entire row (or column) is not a good approach because the deleted data instance (or feature) might be important."
   ],
   "metadata": {
    "collapsed": false
   },
   "id": "7dd8b758ffaf90f0"
  },
  {
   "cell_type": "code",
   "execution_count": null,
   "outputs": [],
   "source": [
    "# Restore the original data\n",
    "X = sd_data.data\n",
    "y = sd_data.target"
   ],
   "metadata": {
    "collapsed": false
   },
   "id": "d0c45e42aed3a293"
  },
  {
   "cell_type": "code",
   "execution_count": null,
   "outputs": [],
   "source": [
    "X = pd.DataFrame(X, columns=sd_data.feature_names)\n",
    "y = pd.Series(y)"
   ],
   "metadata": {
    "collapsed": false
   },
   "id": "cb5f6360b8b8b1af"
  },
  {
   "cell_type": "code",
   "execution_count": null,
   "outputs": [],
   "source": [
    "# Get the (number of data, number of features) tuple to make sure the original data has been restored\n",
    "X.shape"
   ],
   "metadata": {
    "collapsed": false
   },
   "id": "20c0c771303bb99e"
  },
  {
   "cell_type": "markdown",
   "source": [
    "## 1. [Simple Imputer](https://scikit-learn.org/stable/modules/generated/sklearn.impute.SimpleImputer.html#sklearn.impute.SimpleImputer)\n",
    "Instead of deleting, the missing values can be replaced, for example, with respective most frequent values."
   ],
   "metadata": {
    "collapsed": false
   },
   "id": "eb0a9341124781fa"
  },
  {
   "cell_type": "code",
   "execution_count": null,
   "outputs": [],
   "source": [
    "from sklearn.impute import SimpleImputer\n",
    "imp = SimpleImputer(strategy=\"most_frequent\")\n",
    "X_imp = imp.fit_transform(X)\n",
    "X_imp = pd.DataFrame(X_imp, columns=X.columns)\n",
    "X_imp.isna().sum()"
   ],
   "metadata": {
    "collapsed": false
   },
   "id": "cc7196e75b9cee15"
  },
  {
   "cell_type": "code",
   "execution_count": null,
   "outputs": [],
   "source": [
    "X_train, X_test, y_train, y_test = train_test_split(X_imp, y, train_size=0.8, random_state=0)"
   ],
   "metadata": {
    "collapsed": false
   },
   "id": "28e678ee41271850"
  },
  {
   "cell_type": "markdown",
   "source": [
    "### 1.1 Bagging"
   ],
   "metadata": {
    "collapsed": false
   },
   "id": "6f0e27f90266c8da"
  },
  {
   "cell_type": "code",
   "execution_count": null,
   "outputs": [],
   "source": [
    "start = time.perf_counter()\n",
    "classifier = BaggingClassifier(random_state = 0)\n",
    "classifier.fit(X_train, y_train)\n",
    "print(f\"Time taken: {time.perf_counter() - start} sec\")\n",
    "print(\"Train accuracy: \", accuracy_score(classifier.predict(X_train), y_train))\n",
    "print(\"Test accuracy: \", accuracy_score(classifier.predict(X_test), y_test))"
   ],
   "metadata": {
    "collapsed": false
   },
   "id": "93f0eb80eb53e474"
  },
  {
   "cell_type": "markdown",
   "source": [
    "### 1.2 Random Forest"
   ],
   "metadata": {
    "collapsed": false
   },
   "id": "cffc2cf3e122ce5b"
  },
  {
   "cell_type": "code",
   "execution_count": null,
   "outputs": [],
   "source": [
    "start = time.perf_counter()\n",
    "classifier = RandomForestClassifier(random_state = 0)\n",
    "classifier.fit(X_train, y_train)\n",
    "print(f\"Time taken: {time.perf_counter() - start} sec\")\n",
    "print(\"Train accuracy: \", accuracy_score(classifier.predict(X_train), y_train))\n",
    "print(\"Test accuracy: \", accuracy_score(classifier.predict(X_test), y_test))"
   ],
   "metadata": {
    "collapsed": false
   },
   "id": "b3e93c85870a78ed"
  },
  {
   "cell_type": "markdown",
   "source": [
    "## 2. [kNN Imputer](https://scikit-learn.org/stable/modules/generated/sklearn.impute.KNNImputer.html#sklearn.impute.KNNImputer)\n",
    "If there is a missing value in a row, it can be replaced with a respective value of row's k nearest neighbours."
   ],
   "metadata": {
    "collapsed": false
   },
   "id": "76d56b9a5de5340b"
  },
  {
   "cell_type": "code",
   "execution_count": null,
   "outputs": [],
   "source": [
    "from sklearn.impute import KNNImputer\n",
    "imp = KNNImputer()\n",
    "X_imp = imp.fit_transform(X)\n",
    "X_imp = pd.DataFrame(X_imp, columns=X.columns)\n",
    "X_imp.isna().sum()"
   ],
   "metadata": {
    "collapsed": false
   },
   "id": "9ac66b0249ab2939"
  },
  {
   "cell_type": "code",
   "execution_count": null,
   "outputs": [],
   "source": [
    "X_train, X_test, y_train, y_test = train_test_split(X_imp, y, train_size=0.8, random_state=0)"
   ],
   "metadata": {
    "collapsed": false
   },
   "id": "793e4d0e0679a06f"
  },
  {
   "cell_type": "markdown",
   "source": [
    "### 2.1 Bagging"
   ],
   "metadata": {
    "collapsed": false
   },
   "id": "91042bc142351ac4"
  },
  {
   "cell_type": "code",
   "execution_count": null,
   "outputs": [],
   "source": [
    "start = time.perf_counter()\n",
    "classifier = BaggingClassifier(random_state = 0)\n",
    "classifier.fit(X_train, y_train)\n",
    "print(f\"Time taken: {time.perf_counter() - start} sec\")\n",
    "print(\"Train accuracy: \", accuracy_score(classifier.predict(X_train), y_train))\n",
    "print(\"Test accuracy: \", accuracy_score(classifier.predict(X_test), y_test))"
   ],
   "metadata": {
    "collapsed": false
   },
   "id": "f95925a419c2cd2a"
  },
  {
   "cell_type": "markdown",
   "source": [
    "### 2.2 Random Forest"
   ],
   "metadata": {
    "collapsed": false
   },
   "id": "376e56f21b100c3f"
  },
  {
   "cell_type": "code",
   "execution_count": null,
   "outputs": [],
   "source": [
    "start = time.perf_counter()\n",
    "classifier = RandomForestClassifier(random_state = 0)\n",
    "classifier.fit(X_train, y_train)\n",
    "print(f\"Time taken: {time.perf_counter() - start} sec\")\n",
    "print(\"Train accuracy: \", accuracy_score(classifier.predict(X_train), y_train))\n",
    "print(\"Test accuracy: \", accuracy_score(classifier.predict(X_test), y_test))"
   ],
   "metadata": {
    "collapsed": false
   },
   "id": "705473b8fcf5beee"
  },
  {
   "cell_type": "markdown",
   "source": [
    "## 3. [Iterative Imputer](https://scikit-learn.org/stable/modules/generated/sklearn.impute.IterativeImputer.html#sklearn.impute.IterativeImputer)\n",
    "If there is a missing value in a row, it is possible to create a model based on data where the corresponding value is present, and predict that value for the row where that value is missing"
   ],
   "metadata": {
    "collapsed": false
   },
   "id": "f709b395367971e5"
  },
  {
   "cell_type": "code",
   "execution_count": null,
   "outputs": [],
   "source": [
    "from sklearn.experimental import enable_iterative_imputer\n",
    "from sklearn.impute import IterativeImputer\n",
    "imp = IterativeImputer()\n",
    "X_imp = imp.fit_transform(X)\n",
    "X_imp = pd.DataFrame(X_imp, columns=X.columns)\n",
    "X_imp.isna().sum()"
   ],
   "metadata": {
    "collapsed": false
   },
   "id": "2d2eb86eae78233"
  },
  {
   "cell_type": "code",
   "execution_count": null,
   "outputs": [],
   "source": [
    "X_train, X_test, y_train, y_test = train_test_split(X_imp, y, train_size=0.8, random_state=0)"
   ],
   "metadata": {
    "collapsed": false
   },
   "id": "6a99e21919e59e15"
  },
  {
   "cell_type": "markdown",
   "source": [
    "### 3.1 Bagging"
   ],
   "metadata": {
    "collapsed": false
   },
   "id": "5f7d665b139d85fa"
  },
  {
   "cell_type": "code",
   "execution_count": null,
   "outputs": [],
   "source": [
    "start = time.perf_counter()\n",
    "classifier = BaggingClassifier(random_state = 0)\n",
    "classifier.fit(X_train, y_train)\n",
    "print(f\"Time taken: {time.perf_counter() - start} sec\")\n",
    "print(\"Train accuracy: \", accuracy_score(classifier.predict(X_train), y_train))\n",
    "print(\"Test accuracy: \", accuracy_score(classifier.predict(X_test), y_test))"
   ],
   "metadata": {
    "collapsed": false
   },
   "id": "2540d2234d6cd5cd"
  },
  {
   "cell_type": "markdown",
   "source": [
    "### 3.2 Random Forest"
   ],
   "metadata": {
    "collapsed": false
   },
   "id": "e715f05c79fb32ee"
  },
  {
   "cell_type": "code",
   "execution_count": null,
   "outputs": [],
   "source": [
    "start = time.perf_counter()\n",
    "classifier = RandomForestClassifier(random_state = 0)\n",
    "classifier.fit(X_train, y_train)\n",
    "print(f\"Time taken: {time.perf_counter() - start} sec\")\n",
    "print(\"Train accuracy: \", accuracy_score(classifier.predict(X_train), y_train))\n",
    "print(\"Test accuracy: \", accuracy_score(classifier.predict(X_test), y_test))"
   ],
   "metadata": {
    "collapsed": false
   },
   "id": "5e4ef7224e5010a0"
  },
  {
   "cell_type": "code",
   "execution_count": null,
   "outputs": [],
   "source": [
    "# Returns importance of each feature\n",
    "df = pd.DataFrame({'feat': X_train.columns,\n",
    "                   'importance': classifier.feature_importances_}).sort_values('importance', ascending=False)\n",
    "\n",
    "df [df['importance']<0.01]"
   ],
   "metadata": {
    "collapsed": false
   },
   "id": "2e4dcb32c5fc55c7"
  },
  {
   "cell_type": "code",
   "execution_count": null,
   "outputs": [],
   "source": [
    "# Get the data description\n",
    "print(sd_data.DESCR)"
   ],
   "metadata": {
    "collapsed": false
   },
   "id": "9c46ac4eb8f02754"
  }
 ],
 "metadata": {
  "kernelspec": {
   "display_name": "Python 3",
   "language": "python",
   "name": "python3"
  },
  "language_info": {
   "codemirror_mode": {
    "name": "ipython",
    "version": 2
   },
   "file_extension": ".py",
   "mimetype": "text/x-python",
   "name": "python",
   "nbconvert_exporter": "python",
   "pygments_lexer": "ipython2",
   "version": "2.7.6"
  }
 },
 "nbformat": 4,
 "nbformat_minor": 5
}
